{
  "cells": [
    {
      "cell_type": "code",
      "execution_count": null,
      "metadata": {
        "colab": {
          "base_uri": "https://localhost:8080/"
        },
        "id": "f0d1Ksd74mgR",
        "outputId": "1d8f47e4-b087-47a3-a6ac-564000e5f6a1"
      },
      "outputs": [
        {
          "output_type": "stream",
          "name": "stdout",
          "text": [
            "Requirement already satisfied: kaleido==0.2.1 in /usr/local/lib/python3.11/dist-packages (0.2.1)\n"
          ]
        }
      ],
      "source": [
        "# This module is used for generating an image we will use to check accuracy.\n",
        "!pip install kaleido==0.2.1"
      ]
    },
    {
      "cell_type": "code",
      "execution_count": null,
      "metadata": {
        "id": "gvz8p33ABQy9"
      },
      "outputs": [],
      "source": [
        "import numpy as np\n",
        "import pandas as pd\n",
        "import tensorflow as tf"
      ]
    },
    {
      "cell_type": "code",
      "execution_count": null,
      "metadata": {
        "colab": {
          "base_uri": "https://localhost:8080/"
        },
        "id": "dnuR8-PIbVIp",
        "outputId": "99bf2cef-86dd-47ce-e02d-1ced35aa90a9"
      },
      "outputs": [
        {
          "output_type": "execute_result",
          "data": {
            "text/plain": [
              "[PhysicalDevice(name='/physical_device:GPU:0', device_type='GPU')]"
            ]
          },
          "metadata": {},
          "execution_count": 3
        }
      ],
      "source": [
        "# Run on GPU for best results\n",
        "tf.config.list_physical_devices('GPU')"
      ]
    },
    {
      "cell_type": "code",
      "execution_count": null,
      "metadata": {
        "colab": {
          "base_uri": "https://localhost:8080/"
        },
        "id": "jInhxVqIEcCK",
        "outputId": "d90150a5-61fb-4ba9-cd91-c63920bfb2ee"
      },
      "outputs": [
        {
          "output_type": "stream",
          "name": "stdout",
          "text": [
            "Drive already mounted at /content/drive; to attempt to forcibly remount, call drive.mount(\"/content/drive\", force_remount=True).\n"
          ]
        }
      ],
      "source": [
        "from google.colab import drive\n",
        "drive.mount(\"/content/drive\")"
      ]
    },
    {
      "cell_type": "code",
      "execution_count": null,
      "metadata": {
        "id": "OuOnRFqyFOWv"
      },
      "outputs": [],
      "source": [
        "# We import the right wrist accelerometer data.\n",
        "def importData(filename):\n",
        "  df=pd.read_csv(f'/content/drive/MyDrive/Sensor Data/PAMAP2/Protocol/{filename}.dat',\n",
        "                     sep=' ',\n",
        "                     header=None,\n",
        "                     usecols=[1,4,5,6])\n",
        "  df = df[df[1].isin([1, 2, 3, 4, 12, 13, 16, 17])].copy() # Use only the activities which are common to all subjects\n",
        "  df = df.drop(columns=[1]) # We no longer need the activity column\n",
        "  df = df.dropna() # Ensure the data has no missing values\n",
        "  df = df.iloc[::3, :] # Resample from 100Hz to 33Hz for performance\n",
        "  return df"
      ]
    },
    {
      "cell_type": "markdown",
      "metadata": {
        "id": "npQV3WGgOVy4"
      },
      "source": [
        "We keep only the rows common to each subject. Our final dataset consists of timeseries data in three axes."
      ]
    },
    {
      "cell_type": "code",
      "execution_count": null,
      "metadata": {
        "id": "5t71aesOErny"
      },
      "outputs": [],
      "source": [
        "subject_files = ['subject101', 'subject102', 'subject103', 'subject104', 'subject105', 'subject106', 'subject107']\n",
        "\n",
        "x_train = pd.concat((importData(f) for f in subject_files), ignore_index=True).to_numpy()\n",
        "x_test = importData('subject108').to_numpy()"
      ]
    },
    {
      "cell_type": "markdown",
      "source": [
        "We've created a modified version of the Tensorflow implementation of TimeGAN at the following location."
      ],
      "metadata": {
        "id": "pCxFKGGJSIwp"
      }
    },
    {
      "cell_type": "code",
      "execution_count": null,
      "metadata": {
        "colab": {
          "base_uri": "https://localhost:8080/"
        },
        "id": "SqNUgHy_4iVD",
        "outputId": "f5eb02e0-2da6-42e3-f263-e74fb4568095"
      },
      "outputs": [
        {
          "output_type": "stream",
          "name": "stdout",
          "text": [
            "fatal: destination path 'time-gan-tensorflow' already exists and is not an empty directory.\n",
            "/content/time-gan-tensorflow\n"
          ]
        }
      ],
      "source": [
        "!git clone https://github.com/PierceRoberts34/time-gan-tensorflow.git\n",
        "%cd time-gan-tensorflow"
      ]
    },
    {
      "cell_type": "code",
      "execution_count": null,
      "metadata": {
        "colab": {
          "base_uri": "https://localhost:8080/"
        },
        "id": "lNMiyJXV4tIW",
        "outputId": "192a086c-c994-48c8-f6b3-8b07102b81cd"
      },
      "outputs": [
        {
          "output_type": "stream",
          "name": "stdout",
          "text": [
            "epoch: 1 autoencoder_loss: 0.000723 generator_loss: 0.022532 discriminator_loss: 31.884769\n"
          ]
        }
      ],
      "source": [
        "from time_gan_tensorflow.model import TimeGAN\n",
        "from time_gan_tensorflow.plots import plot\n",
        "\n",
        "# Fit the model to the training data\n",
        "model = TimeGAN(\n",
        "    x=x_train,\n",
        "    timesteps=33,\n",
        "    hidden_dim=64,\n",
        "    num_layers=3,\n",
        "    lambda_param=0.1,\n",
        "    eta_param=10,\n",
        "    learning_rate=0.001,\n",
        "    batch_size=128\n",
        ")\n",
        "\n",
        "model.fit(\n",
        "    epochs=1,\n",
        "    verbose=True\n",
        ")\n",
        "\n",
        "# Reconstruct the test data\n",
        "x_hat = model.reconstruct(x=x_test)\n",
        "\n",
        "# Generate the synthetic data\n",
        "x_sim = model.simulate(samples=len(x_test))\n",
        "\n",
        "# Plot the actual, reconstructed and synthetic data\n",
        "fig = plot(actual=x_test, reconstructed=x_hat, synthetic=x_sim)\n",
        "fig.write_image('results.png', scale=4, height=900, width=700)"
      ]
    },
    {
      "cell_type": "code",
      "execution_count": null,
      "metadata": {
        "colab": {
          "base_uri": "https://localhost:8080/"
        },
        "id": "nrjN-uwkdspp",
        "outputId": "edf079b4-f805-46f6-c6f8-30a6bc8540e1"
      },
      "outputs": [
        {
          "output_type": "stream",
          "name": "stdout",
          "text": [
            "Real Data\n",
            "[[ 2.2153    8.27915   5.58753 ]\n",
            " [ 2.218     7.14365   5.8993  ]\n",
            " [ 2.41148   7.5978    5.93915 ]\n",
            " ...\n",
            " [-6.28978   7.45238  -0.964473]\n",
            " [-6.37124   7.37574  -1.11938 ]\n",
            " [-6.48648   7.3004   -1.15934 ]]\n",
            "Synthetic Data\n",
            "[[-3.73133965  4.3984757   3.93543995]\n",
            " [-1.93705991  5.12304404  3.50122751]\n",
            " [-0.45274337  6.18154857  3.1091209 ]\n",
            " ...\n",
            " [-5.49979169  9.25468904  1.35935439]\n",
            " [-5.52432358  9.26274894  1.32834986]\n",
            " [-5.54226999  9.26742486  1.29372431]]\n",
            "60588\n"
          ]
        }
      ],
      "source": [
        "print(\"Real Data\")\n",
        "print(x_train)\n",
        "print(\"Synthetic Data\")\n",
        "print(x_sim)\n",
        "print(x_sim.shape[0])"
      ]
    },
    {
      "cell_type": "code",
      "execution_count": null,
      "metadata": {
        "id": "uRvFd7IVSZtn"
      },
      "outputs": [],
      "source": [
        "synthetic_df = pd.DataFrame(x_sim)\n",
        "index = 0"
      ]
    },
    {
      "cell_type": "code",
      "execution_count": null,
      "metadata": {
        "colab": {
          "base_uri": "https://localhost:8080/"
        },
        "id": "5A4P04NQTdEh",
        "outputId": "d21a8abb-f300-4616-a9bd-14aed0449447"
      },
      "outputs": [
        {
          "output_type": "stream",
          "name": "stdout",
          "text": [
            "           0          1         2\n",
            "10 -3.372252  10.560915  0.939347\n",
            "11 -3.835561  10.731901  0.860057\n",
            "12 -4.248534  10.872684  0.792274\n",
            "13 -4.516910  11.003277  0.715012\n",
            "14 -4.646976  11.129845  0.625978\n"
          ]
        }
      ],
      "source": [
        "# Generate new data\n",
        "append = synthetic_df[index:index+5]\n",
        "index += 5\n",
        "print(append)\n",
        "append.to_csv('/content/drive/MyDrive/Sensor Data/Test Data/sensor_data.csv', mode='a', header=None, index=False)"
      ]
    },
    {
      "cell_type": "markdown",
      "metadata": {
        "id": "EPfC-AHV798T"
      },
      "source": []
    }
  ],
  "metadata": {
    "colab": {
      "provenance": [],
      "gpuType": "T4"
    },
    "kernelspec": {
      "display_name": "Python 3",
      "name": "python3"
    },
    "language_info": {
      "name": "python"
    },
    "accelerator": "GPU"
  },
  "nbformat": 4,
  "nbformat_minor": 0
}
