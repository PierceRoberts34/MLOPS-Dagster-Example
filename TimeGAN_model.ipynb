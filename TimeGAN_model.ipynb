{
  "cells": [
    {
      "cell_type": "markdown",
      "metadata": {
        "id": "view-in-github",
        "colab_type": "text"
      },
      "source": [
        "<a href=\"https://colab.research.google.com/github/PierceRoberts34/MLOPS-Proof-of-Concept/blob/main/TimeGAN_model.ipynb\" target=\"_parent\"><img src=\"https://colab.research.google.com/assets/colab-badge.svg\" alt=\"Open In Colab\"/></a>"
      ]
    },
    {
      "cell_type": "code",
      "execution_count": 2,
      "metadata": {
        "colab": {
          "base_uri": "https://localhost:8080/"
        },
        "id": "f0d1Ksd74mgR",
        "outputId": "d8ce8ba1-6f63-4b50-8130-e543a237cb27"
      },
      "outputs": [
        {
          "output_type": "stream",
          "name": "stdout",
          "text": [
            "Collecting kaleido==0.2.1\n",
            "  Downloading kaleido-0.2.1-py2.py3-none-manylinux1_x86_64.whl.metadata (15 kB)\n",
            "Downloading kaleido-0.2.1-py2.py3-none-manylinux1_x86_64.whl (79.9 MB)\n",
            "\u001b[2K   \u001b[90m━━━━━━━━━━━━━━━━━━━━━━━━━━━━━━━━━━━━━━━━\u001b[0m \u001b[32m79.9/79.9 MB\u001b[0m \u001b[31m10.7 MB/s\u001b[0m eta \u001b[36m0:00:00\u001b[0m\n",
            "\u001b[?25hInstalling collected packages: kaleido\n",
            "Successfully installed kaleido-0.2.1\n"
          ]
        }
      ],
      "source": [
        "!pip install kaleido==0.2.1"
      ]
    },
    {
      "cell_type": "code",
      "execution_count": 3,
      "metadata": {
        "id": "gvz8p33ABQy9"
      },
      "outputs": [],
      "source": [
        "import numpy as np\n",
        "import pandas as pd\n",
        "import tensorflow as tf"
      ]
    },
    {
      "cell_type": "code",
      "execution_count": 4,
      "metadata": {
        "colab": {
          "base_uri": "https://localhost:8080/"
        },
        "id": "dnuR8-PIbVIp",
        "outputId": "5b091c7f-8802-435b-bbe5-187d6bcc0bdb"
      },
      "outputs": [
        {
          "output_type": "execute_result",
          "data": {
            "text/plain": [
              "[]"
            ]
          },
          "metadata": {},
          "execution_count": 4
        }
      ],
      "source": [
        "# Run on GPU for best results\n",
        "tf.config.list_physical_devices('GPU')"
      ]
    },
    {
      "cell_type": "code",
      "execution_count": 6,
      "metadata": {
        "colab": {
          "base_uri": "https://localhost:8080/"
        },
        "id": "jInhxVqIEcCK",
        "outputId": "b340664b-78a2-4cf8-ca2f-6df88106da80"
      },
      "outputs": [
        {
          "output_type": "stream",
          "name": "stdout",
          "text": [
            "Mounted at /content/drive\n"
          ]
        }
      ],
      "source": [
        "from google.colab import drive\n",
        "drive.mount(\"/content/drive\")"
      ]
    },
    {
      "cell_type": "code",
      "execution_count": 7,
      "metadata": {
        "id": "OuOnRFqyFOWv"
      },
      "outputs": [],
      "source": [
        "# We import the right wrist accelerometer data.\n",
        "def importData(filename):\n",
        "  df=pd.read_csv(f'/content/drive/MyDrive/Sensor Data/PAMAP2/Protocol/{filename}.dat',\n",
        "                     sep=' ',\n",
        "                     header=None,\n",
        "                     usecols=[1,4,5,6])\n",
        "  df = df[df[1].isin([1, 2, 3, 4, 12, 13, 16, 17])].copy() # Use only the activities which are common to all subjects\n",
        "  df = df.drop(columns=[1]) # We no longer need the activity column\n",
        "  df = df.dropna() # Ensure the data has no missing values\n",
        "  df = df.iloc[::3, :] # Resample from 100Hz to 33Hz for performance\n",
        "  return df"
      ]
    },
    {
      "cell_type": "markdown",
      "metadata": {
        "id": "npQV3WGgOVy4"
      },
      "source": [
        "We keep only the rows common to each subject. Our final dataset consists of timeseries data in three axes."
      ]
    },
    {
      "cell_type": "code",
      "execution_count": 8,
      "metadata": {
        "id": "5t71aesOErny"
      },
      "outputs": [],
      "source": [
        "subject_files = ['subject101', 'subject102', 'subject103', 'subject104', 'subject105', 'subject106', 'subject107']\n",
        "\n",
        "x_train = pd.concat((importData(f) for f in subject_files), ignore_index=True).to_numpy()\n",
        "x_test = importData('subject108').to_numpy()"
      ]
    },
    {
      "cell_type": "code",
      "execution_count": 9,
      "metadata": {
        "colab": {
          "base_uri": "https://localhost:8080/"
        },
        "id": "SqNUgHy_4iVD",
        "outputId": "9416326d-6d75-4fb7-fd8d-077a04a54a7f"
      },
      "outputs": [
        {
          "output_type": "stream",
          "name": "stdout",
          "text": [
            "Cloning into 'time-gan-tensorflow'...\n",
            "remote: Enumerating objects: 133, done.\u001b[K\n",
            "remote: Counting objects: 100% (133/133), done.\u001b[K\n",
            "remote: Compressing objects: 100% (118/118), done.\u001b[K\n",
            "remote: Total 133 (delta 77), reused 37 (delta 14), pack-reused 0 (from 0)\u001b[K\n",
            "Receiving objects: 100% (133/133), 7.96 MiB | 12.33 MiB/s, done.\n",
            "Resolving deltas: 100% (77/77), done.\n",
            "/content/time-gan-tensorflow\n"
          ]
        }
      ],
      "source": [
        "!git clone https://github.com/PierceRoberts34/time-gan-tensorflow.git\n",
        "%cd time-gan-tensorflow"
      ]
    },
    {
      "cell_type": "code",
      "execution_count": 10,
      "metadata": {
        "colab": {
          "base_uri": "https://localhost:8080/"
        },
        "id": "lNMiyJXV4tIW",
        "outputId": "b7256c64-7b03-4fc4-d9e1-424101c10ec9"
      },
      "outputs": [
        {
          "output_type": "stream",
          "name": "stdout",
          "text": [
            "epoch: 1 autoencoder_loss: 0.002759 generator_loss: 32.321564 discriminator_loss: 30.221428\n"
          ]
        }
      ],
      "source": [
        "from time_gan_tensorflow.model import TimeGAN\n",
        "from time_gan_tensorflow.plots import plot\n",
        "\n",
        "# Fit the model to the training data\n",
        "model = TimeGAN(\n",
        "    x=x_train,\n",
        "    timesteps=33,\n",
        "    hidden_dim=64,\n",
        "    num_layers=3,\n",
        "    lambda_param=0.1,\n",
        "    eta_param=10,\n",
        "    learning_rate=0.001,\n",
        "    batch_size=16\n",
        ")\n",
        "\n",
        "model.fit(\n",
        "    epochs=500,\n",
        "    verbose=True\n",
        ")\n",
        "\n",
        "# Reconstruct the test data\n",
        "x_hat = model.reconstruct(x=x_test)\n",
        "\n",
        "# Generate the synthetic data\n",
        "x_sim = model.simulate(samples=len(x_test))\n",
        "\n",
        "# Plot the actual, reconstructed and synthetic data\n",
        "fig = plot(actual=x_test, reconstructed=x_hat, synthetic=x_sim)\n",
        "fig.write_image('results.png', scale=4, height=900, width=700)"
      ]
    },
    {
      "cell_type": "code",
      "execution_count": 11,
      "metadata": {
        "colab": {
          "base_uri": "https://localhost:8080/"
        },
        "id": "nrjN-uwkdspp",
        "outputId": "90b9c190-9b75-43b2-8817-8de2fafaf254"
      },
      "outputs": [
        {
          "output_type": "stream",
          "name": "stdout",
          "text": [
            "Real Data\n",
            "[[ 2.2153    8.27915   5.58753 ]\n",
            " [ 2.218     7.14365   5.8993  ]\n",
            " [ 2.41148   7.5978    5.93915 ]\n",
            " ...\n",
            " [-6.28978   7.45238  -0.964473]\n",
            " [-6.37124   7.37574  -1.11938 ]\n",
            " [-6.48648   7.3004   -1.15934 ]]\n",
            "Synthetic Data\n",
            "[[-3.80792581  3.6744547   5.28285941]\n",
            " [-3.81155338  3.11784052  5.63324672]\n",
            " [-4.21640256  2.12019925  6.08012234]\n",
            " ...\n",
            " [-6.18169371  7.3973421   2.80722285]\n",
            " [-6.23242586  7.39146864  2.77235387]\n",
            " [-6.27638609  7.38961491  2.74149681]]\n",
            "60588\n"
          ]
        }
      ],
      "source": [
        "print(\"Real Data\")\n",
        "print(x_train)\n",
        "print(\"Synthetic Data\")\n",
        "print(x_sim)\n",
        "print(x_sim.shape[0])"
      ]
    },
    {
      "cell_type": "code",
      "execution_count": 12,
      "metadata": {
        "id": "uRvFd7IVSZtn"
      },
      "outputs": [],
      "source": [
        "synthetic_df = pd.DataFrame(x_sim)\n",
        "index = 0"
      ]
    },
    {
      "cell_type": "code",
      "execution_count": 19,
      "metadata": {
        "colab": {
          "base_uri": "https://localhost:8080/"
        },
        "id": "5A4P04NQTdEh",
        "outputId": "d0c657cf-4be7-439c-86fc-3a1049a60c52"
      },
      "outputs": [
        {
          "output_type": "stream",
          "name": "stdout",
          "text": [
            "            0         1         2\n",
            "30 -10.152992 -2.498199  4.210392\n",
            "31 -10.169897 -2.501760  4.194969\n",
            "32 -10.188829 -2.500569  4.180388\n",
            "33  -3.748180  3.642691  5.323518\n",
            "34  -3.612217  3.025770  5.781303\n"
          ]
        }
      ],
      "source": [
        "# Generate new data\n",
        "append = synthetic_df[index:index+5]\n",
        "index += 5\n",
        "print(append)\n",
        "append.to_csv('/content/drive/MyDrive/Sensor Data/Test Data/synthetic_data.csv', mode='a', header=None, index=False)"
      ]
    },
    {
      "cell_type": "markdown",
      "metadata": {
        "id": "EPfC-AHV798T"
      },
      "source": []
    }
  ],
  "metadata": {
    "colab": {
      "provenance": [],
      "authorship_tag": "ABX9TyOqV9qOsvRGB18zCM+VYhEM",
      "include_colab_link": true
    },
    "kernelspec": {
      "display_name": "Python 3",
      "name": "python3"
    },
    "language_info": {
      "name": "python"
    }
  },
  "nbformat": 4,
  "nbformat_minor": 0
}